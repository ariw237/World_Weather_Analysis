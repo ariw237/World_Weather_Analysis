{
 "cells": [
  {
   "cell_type": "markdown",
   "id": "e0ed03df",
   "metadata": {},
   "source": [
    "Here we are going to create a random set of 2000 coordinates and retrieve the city nearest said coordinate along with data on current weather conditions and other weather metrics"
   ]
  },
  {
   "cell_type": "code",
   "execution_count": null,
   "id": "6820a384",
   "metadata": {},
   "outputs": [],
   "source": [
    "#Import dependencies:\n",
    "import numpy as np\n",
    "import pandas as pd\n",
    "import matplotlib.pyplot as plt\n",
    "from citipy import citipy\n",
    "import time\n",
    "from datetime import datetime\n",
    "from config import open_weather_key\n",
    "import requests"
   ]
  },
  {
   "cell_type": "code",
   "execution_count": null,
   "id": "c360b099",
   "metadata": {},
   "outputs": [],
   "source": [
    "#Generate random set of 2000 latitudes and longitudes:\n",
    "lats = np.random.uniform(-90,90, size = 2000)\n",
    "lons = np.random.uniform(-180,180, size = 2000)\n",
    "lat_lons = zip(lats,lons)  #This will create a list of tuples with each tuple have two elements (lat and lon)\n",
    "lat_lons\n"
   ]
  },
  {
   "cell_type": "code",
   "execution_count": null,
   "id": "3f5c4639",
   "metadata": {},
   "outputs": [],
   "source": [
    "#Convert lat_lons to a list of coordinates:\n",
    "coordinates = list(lat_lons)"
   ]
  },
  {
   "cell_type": "code",
   "execution_count": null,
   "id": "98160914",
   "metadata": {},
   "outputs": [],
   "source": [
    "#Check list of coordinates:\n",
    "print(len(coordinates))\n",
    "print(coordinates[0:10])"
   ]
  },
  {
   "cell_type": "code",
   "execution_count": null,
   "id": "6a7dfae4",
   "metadata": {},
   "outputs": [],
   "source": [
    "#Get nearest cities and check cities list length\n",
    "cities = []\n",
    "for coordinate in coordinates:\n",
    "    city = citipy.nearest_city(coordinate[0], coordinate[1]).city_name\n",
    "    if city not in cities:\n",
    "        cities.append(city)\n",
    "len(cities)"
   ]
  },
  {
   "cell_type": "code",
   "execution_count": null,
   "id": "ca814a2c",
   "metadata": {},
   "outputs": [],
   "source": [
    "cities"
   ]
  },
  {
   "cell_type": "code",
   "execution_count": null,
   "id": "11a85794",
   "metadata": {},
   "outputs": [],
   "source": [
    "#Make an API call to obtain weather data for each city in list\n",
    "record_count = 1\n",
    "set_count = 1\n",
    "city_data = []\n",
    "url = \"http://api.openweathermap.org/data/2.5/weather?units=Imperial&APPID=\"\n",
    "for i, city in enumerate(cities):\n",
    "    if (i % 50 == 0 and i >= 50):\n",
    "        set_count += 1\n",
    "        record_count = 1\n",
    "        time.sleep(60)\n",
    "    city_url = url + open_weather_key + \"&q=\" + city.replace(\" \",\"+\")\n",
    "    print(f\"Processing Record {record_count} of Set {set_count} | {city}\")\n",
    "    record_count+=1\n",
    "    try:\n",
    "        city_weather = requests.get(city_url).json()\n",
    "        city_country = city_weather[\"sys\"][\"country\"]\n",
    "        city_lat = city_weather[\"coord\"][\"lat\"]\n",
    "        city_lng = city_weather[\"coord\"][\"lon\"]\n",
    "        city_max_temp = city_weather[\"main\"][\"temp_max\"]\n",
    "        city_humidity = city_weather[\"main\"][\"humidity\"]\n",
    "        city_clouds = city_weather[\"clouds\"][\"all\"]\n",
    "        city_wind = city_weather[\"wind\"][\"speed\"]\n",
    "        city_weather_description = city_weather['weather'][0]['description']\n",
    "        city_data.append({\"City\": city.title(),\n",
    "                          \"Country\" : city_country,\n",
    "                          \"Lat\": city_lat,\n",
    "                          \"Lng\": city_lng,\n",
    "                          \"Max Temp\": city_max_temp,\n",
    "                          \"Humidity\": city_humidity,\n",
    "                          \"Cloudiness\": city_clouds,\n",
    "                          \"Wind Speed\": city_wind,\n",
    "                          \"Weather Description\": city_weather_description})\n",
    "    except KeyError:\n",
    "        print(\"City not found. Skipping...\")\n",
    "        pass  \n",
    "print(\"-----------------------------\")\n",
    "print(\"Data Retrieval Complete      \")\n",
    "print(\"-----------------------------\")"
   ]
  },
  {
   "cell_type": "code",
   "execution_count": null,
   "id": "f8ce3fe1",
   "metadata": {},
   "outputs": [],
   "source": [
    "city_data"
   ]
  },
  {
   "cell_type": "code",
   "execution_count": null,
   "id": "1b5a5608",
   "metadata": {},
   "outputs": [],
   "source": [
    "#Convert the data to a dataframe\n",
    "city_data_df = pd.DataFrame(city_data)\n",
    "#Check dataframe structure\n",
    "city_data_df.head(10)"
   ]
  },
  {
   "cell_type": "code",
   "execution_count": null,
   "id": "98954ba4",
   "metadata": {},
   "outputs": [],
   "source": [
    "#Export the dataframe to a csv file\n",
    "output_data_file = \"WeatherPy_database.csv\"\n",
    "city_data_df.to_csv(output_data_file, index_label = \"City_ID\")"
   ]
  },
  {
   "cell_type": "code",
   "execution_count": null,
   "id": "f31b8d81",
   "metadata": {},
   "outputs": [],
   "source": []
  }
 ],
 "metadata": {
  "kernelspec": {
   "display_name": "PythonData",
   "language": "python",
   "name": "pythondata"
  },
  "language_info": {
   "codemirror_mode": {
    "name": "ipython",
    "version": 3
   },
   "file_extension": ".py",
   "mimetype": "text/x-python",
   "name": "python",
   "nbconvert_exporter": "python",
   "pygments_lexer": "ipython3",
   "version": "3.7.10"
  }
 },
 "nbformat": 4,
 "nbformat_minor": 5
}
